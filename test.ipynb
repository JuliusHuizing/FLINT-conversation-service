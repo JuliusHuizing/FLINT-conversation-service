{
 "cells": [
  {
   "cell_type": "code",
   "execution_count": 1,
   "metadata": {},
   "outputs": [],
   "source": [
    "from system_prompts.system_base_prompt_english import prompt\n",
    "from utils.ChatGPTResponseHandler import ChatGPTResponseHandler, Model\n",
    "from utils.split_response_by_delimiters import split_response_by_delimiters"
   ]
  },
  {
   "cell_type": "code",
   "execution_count": 2,
   "metadata": {},
   "outputs": [],
   "source": [
    "# print(prompt)"
   ]
  },
  {
   "cell_type": "code",
   "execution_count": null,
   "metadata": {},
   "outputs": [],
   "source": []
  },
  {
   "cell_type": "code",
   "execution_count": 3,
   "metadata": {},
   "outputs": [],
   "source": [
    "handler = ChatGPTResponseHandler(model=Model.gpt35turbo, prompt=prompt, prompt_id=1)"
   ]
  },
  {
   "cell_type": "code",
   "execution_count": 4,
   "metadata": {},
   "outputs": [],
   "source": [
    "example_input = \"Indien een ambtenaar door het begaan van een strafbaar feit een bijzondere ambtsplicht schendt of bij het begaan van een strafbaar feit gebruik maakt van macht, gelegenheid of middel hem door zijn ambt geschonken, kan de op het feit gestelde straf, met uitzondering van geldboete, met een derde worden verhoogd.\""
   ]
  },
  {
   "cell_type": "code",
   "execution_count": 5,
   "metadata": {},
   "outputs": [],
   "source": [
    "output = handler.request_full_response(input=example_input)"
   ]
  },
  {
   "cell_type": "code",
   "execution_count": 6,
   "metadata": {},
   "outputs": [
    {
     "data": {
      "text/plain": [
       "'$$$\\nThe norm states that if a civil servant commits a criminal offense by violating a special official duty or uses power, opportunity, or means granted to him by his office to commit a criminal offense, the penalty for the offense can be increased by one third, except for a fine.\\n\\nComponents of the act frame:\\n- Action: increase\\n- Actor: judicial authority\\n- Object: penalty for the offense\\n- Recipient: civil servant\\n- Preconditions: \\n  - The civil servant commits a criminal offense by violating a special official duty\\n  - The civil servant uses power, opportunity, or means granted to him by his office to commit a criminal offense\\n- Creating_postcondition: \\n  - increase the penalty for the offense by one third\\n- Terminating_postcondition: None\\n- References_to_sources:\\n  - Criminal Code, Article X\\n\\n```json\\n{\\n  \"Action\": \"increase\",\\n  \"Actor\": \"judicial authority\",\\n  \"Object\": \"penalty for the offense\",\\n  \"Recipient\": \"civil servant\",\\n  \"Preconditions\": {\\n    \"or\": [\\n      {\\n        \"condition\": \"civil servant commits a criminal offense by violating a special official duty\"\\n      },\\n      {\\n        \"condition\": \"civil servant uses power, opportunity, or means granted by his office to commit a criminal offense\"\\n      }\\n    ]\\n  },\\n  \"Creating_postcondition\": [\\n    \"increase the penalty for the offense by one third\"\\n  ],\\n  \"Terminating_postcondition\": [],\\n  \"References_to_sources\": [\\n    \"Criminal Code, Article X\"\\n  ]\\n}\\n```'"
      ]
     },
     "execution_count": 6,
     "metadata": {},
     "output_type": "execute_result"
    }
   ],
   "source": [
    "output"
   ]
  },
  {
   "cell_type": "code",
   "execution_count": 7,
   "metadata": {},
   "outputs": [],
   "source": [
    "sub_responses = split_response_by_delimiters(output, delimiters=[(\"$$$\", \"$$$\"), (\"```\", \"```\")])"
   ]
  },
  {
   "cell_type": "code",
   "execution_count": 8,
   "metadata": {},
   "outputs": [
    {
     "data": {
      "text/plain": [
       "['json\\n{\\n  \"Action\": \"increase\",\\n  \"Actor\": \"judicial authority\",\\n  \"Object\": \"penalty for the offense\",\\n  \"Recipient\": \"civil servant\",\\n  \"Preconditions\": {\\n    \"or\": [\\n      {\\n        \"condition\": \"civil servant commits a criminal offense by violating a special official duty\"\\n      },\\n      {\\n        \"condition\": \"civil servant uses power, opportunity, or means granted by his office to commit a criminal offense\"\\n      }\\n    ]\\n  },\\n  \"Creating_postcondition\": [\\n    \"increase the penalty for the offense by one third\"\\n  ],\\n  \"Terminating_postcondition\": [],\\n  \"References_to_sources\": [\\n    \"Criminal Code, Article X\"\\n  ]\\n}\\n']"
      ]
     },
     "execution_count": 8,
     "metadata": {},
     "output_type": "execute_result"
    }
   ],
   "source": [
    "sub_responses"
   ]
  },
  {
   "cell_type": "code",
   "execution_count": 9,
   "metadata": {},
   "outputs": [
    {
     "ename": "IndexError",
     "evalue": "list index out of range",
     "output_type": "error",
     "traceback": [
      "\u001b[0;31m---------------------------------------------------------------------------\u001b[0m",
      "\u001b[0;31mIndexError\u001b[0m                                Traceback (most recent call last)",
      "Cell \u001b[0;32mIn[9], line 1\u001b[0m\n\u001b[0;32m----> 1\u001b[0m json_string \u001b[38;5;241m=\u001b[39m \u001b[43msub_responses\u001b[49m\u001b[43m[\u001b[49m\u001b[38;5;241;43m1\u001b[39;49m\u001b[43m]\u001b[49m\n",
      "\u001b[0;31mIndexError\u001b[0m: list index out of range"
     ]
    }
   ],
   "source": [
    "json_string = sub_responses[1]"
   ]
  },
  {
   "cell_type": "code",
   "execution_count": null,
   "metadata": {},
   "outputs": [],
   "source": [
    "  # Convert the JSON string to a Python dictionary\n",
    "from flask import Flask, jsonify\n",
    "import json\n",
    "\n",
    "json_data = json.loads(json_string)\n",
    "\n",
    "json_data"
   ]
  },
  {
   "cell_type": "code",
   "execution_count": null,
   "metadata": {},
   "outputs": [],
   "source": []
  }
 ],
 "metadata": {
  "kernelspec": {
   "display_name": ".venv",
   "language": "python",
   "name": "python3"
  },
  "language_info": {
   "codemirror_mode": {
    "name": "ipython",
    "version": 3
   },
   "file_extension": ".py",
   "mimetype": "text/x-python",
   "name": "python",
   "nbconvert_exporter": "python",
   "pygments_lexer": "ipython3",
   "version": "3.12.0"
  }
 },
 "nbformat": 4,
 "nbformat_minor": 2
}
