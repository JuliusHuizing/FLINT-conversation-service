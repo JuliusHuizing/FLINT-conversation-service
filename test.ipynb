{
 "cells": [
  {
   "cell_type": "code",
   "execution_count": 8,
   "metadata": {},
   "outputs": [],
   "source": [
    "from system_prompts.system_base_prompt import prompt\n",
    "from utils.ChatGPTResponseHandler import ChatGPTResponseHandler, Model\n",
    "from utils.split_response_by_delimiters import split_response_by_delimiters"
   ]
  },
  {
   "cell_type": "code",
   "execution_count": 2,
   "metadata": {},
   "outputs": [],
   "source": [
    "# print(prompt)"
   ]
  },
  {
   "cell_type": "code",
   "execution_count": 3,
   "metadata": {},
   "outputs": [],
   "source": []
  },
  {
   "cell_type": "code",
   "execution_count": 4,
   "metadata": {},
   "outputs": [],
   "source": [
    "handler = ChatGPTResponseHandler(model=Model.gpt35turbo, prompt=prompt, prompt_id=1)"
   ]
  },
  {
   "cell_type": "code",
   "execution_count": 5,
   "metadata": {},
   "outputs": [],
   "source": [
    "example_input = \"Indien een ambtenaar door het begaan van een strafbaar feit een bijzondere ambtsplicht schendt of bij het begaan van een strafbaar feit gebruik maakt van macht, gelegenheid of middel hem door zijn ambt geschonken, kan de op het feit gestelde straf, met uitzondering van geldboete, met een derde worden verhoogd.\""
   ]
  },
  {
   "cell_type": "code",
   "execution_count": 6,
   "metadata": {},
   "outputs": [],
   "source": [
    "output = handler.request_full_response(input=example_input)"
   ]
  },
  {
   "cell_type": "code",
   "execution_count": 7,
   "metadata": {},
   "outputs": [
    {
     "data": {
      "text/plain": [
       "'$$$\\nThe norm mentioned describes the consequences for a public official who commits a criminal offense related to their duties. The components of the act frame can be identified as follows:\\n\\n1. Action: increase\\n2. Actor: judicial authority\\n3. Object: the penalty for the committed offense\\n4. Recipient: public official\\n5. Preconditions: \\n   - The public official commits a criminal offense related to their duties\\n   - The offense involves the abuse of power, opportunity, or means granted by their position\\n6. Creating_postcondition: \\n   - Increase the penalty for the committed offense by one third, except for a fine\\n7. Terminating_postcondition: None\\n8. References_to_sources:\\n   - Article (not specified)\\n\\n```json\\n{\\n  \"Action\": \"increase\",\\n  \"Actor\": \"judicial authority\",\\n  \"Object\": \"the penalty for the committed offense\",\\n  \"Recipient\": \"public official\",\\n  \"Preconditions\": {\\n    \"and\": [\\n      {\\n        \"condition\": \"the public official commits a criminal offense related to their duties\"\\n      },\\n      {\\n        \"condition\": \"the offense involves the abuse of power, opportunity, or means granted by their position\"\\n      }\\n    ]\\n  },\\n  \"Creating_postcondition\": [\\n    \"Increase the penalty for the committed offense by one third, except for a fine\"\\n  ],\\n  \"Terminating_postcondition\": [],\\n  \"References_to_sources\": [\\n    \"Article (not specified)\"\\n  ]\\n}\\n```'"
      ]
     },
     "execution_count": 7,
     "metadata": {},
     "output_type": "execute_result"
    }
   ],
   "source": [
    "output"
   ]
  },
  {
   "cell_type": "code",
   "execution_count": null,
   "metadata": {},
   "outputs": [],
   "source": [
    "sub_responses = split_response_by_delimiters(output)"
   ]
  }
 ],
 "metadata": {
  "kernelspec": {
   "display_name": ".venv",
   "language": "python",
   "name": "python3"
  },
  "language_info": {
   "codemirror_mode": {
    "name": "ipython",
    "version": 3
   },
   "file_extension": ".py",
   "mimetype": "text/x-python",
   "name": "python",
   "nbconvert_exporter": "python",
   "pygments_lexer": "ipython3",
   "version": "3.12.0"
  }
 },
 "nbformat": 4,
 "nbformat_minor": 2
}
